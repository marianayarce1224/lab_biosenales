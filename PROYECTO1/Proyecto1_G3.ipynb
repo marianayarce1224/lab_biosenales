{
  "cells": [
    {
      "cell_type": "markdown",
      "metadata": {
        "id": "view-in-github",
        "colab_type": "text"
      },
      "source": [
        "<a href=\"https://colab.research.google.com/github/marianayarce1224/lab_biosenales/blob/main/PROYECTO1/Proyecto1_G3.ipynb\" target=\"_parent\"><img src=\"https://colab.research.google.com/assets/colab-badge.svg\" alt=\"Open In Colab\"/></a>"
      ]
    },
    {
      "cell_type": "markdown",
      "metadata": {
        "id": "vc6ymXpur_uK"
      },
      "source": [
        "<p align=\"left\"><img alt=\"udeA logo\" height=\"150px\" src=\"https://www.udea.edu.co/wps/wcm/connect/udea/99fc43e7-7a64-45bd-97fc-96639b70813d/logosimbolo-vertical.png?MOD=AJPERES&CVID=ljeLvHr\"></p>\n",
        "\n",
        "<h1><b>Proyecto 1: Análisis estadístico\n",
        "</b></h1>\n",
        "<h4><b>Bioseñales y sistemas<br>Universidad de Antioquia, Facultad de Ingeniería - Bioingeniería<br>2024-2</b></h4><br>\n",
        "\n",
        "<h4><b>Grupo:</b> 3</h4>\n",
        "<h4><b>Integrantes:</b> Mariana Álvarez Yarce - Ana María Seguro Acevedo</h4>"
      ]
    },
    {
      "cell_type": "markdown",
      "source": [
        "##<b>Contexto del problema</b>\n",
        "\n",
        "<h4>Las enfermedades neurodegenerativas a menudo afectan la marcha y la movilidad. Para comprender mejor la fisiopatología de estas enfermedades y mejorar nuestra capacidad de medir las respuestas a las intervenciones terapéuticas, puede resultar útil cuantificar con precisión la dinámica de la marcha <b>[1]</b>.</h4>"
      ],
      "metadata": {
        "id": "hvJrsSTuAEXf"
      }
    },
    {
      "cell_type": "markdown",
      "source": [
        "##<b>Origen de los datos</b>"
      ],
      "metadata": {
        "id": "vEpXkDbrApI2"
      }
    },
    {
      "cell_type": "markdown",
      "source": [
        "<h4>Los registros de esta base de datos provienen de pacientes con enfermedad de Parkinson ($n=15$), enfermedad de Huntington ($n=20$) y esclerosis lateral amiotrófica ($n=13$). Aquí también se incluyen registros de 16 sujetos de control sanos <b>[1]</b>.</h4>\n",
        "\n",
        "<h4>De los archivos (.ts) se analizarán las señales:</h4>\n",
        "\n",
        "* <h4>Tiempo transcurrido (sec)</h4>\n",
        "* <h4>Intervalo entre pasos pie izquierdo (sec)</h4>\n",
        "* <h4>Intervalo entre pasos pie derecho (sec)</h4>\n",
        "* <h4>Intervalo balanceo pie izquierdo (sec)</h4>\n",
        "* <h4>Intervalo balanceo pie derecho (sec)</h4>\n"
      ],
      "metadata": {
        "id": "dmR2sqJ2AzWG"
      }
    },
    {
      "cell_type": "markdown",
      "source": [
        "##<b>Requerimientos</b>"
      ],
      "metadata": {
        "id": "-PKBa5RcETNH"
      }
    },
    {
      "cell_type": "markdown",
      "source": [
        "###<b>Contexto</b>"
      ],
      "metadata": {
        "id": "BQuzh0KbDJyg"
      }
    },
    {
      "cell_type": "markdown",
      "source": [
        "<h4><b>1. </b>Consultar para enfermedad de Parkinson, Huntington y Esclerosis Lateral Amiotrófica cómo se diagnostican y el reto que existe para el diagnóstico temprano de dichas enfermedades.</h4>"
      ],
      "metadata": {
        "id": "zMDo1kaBDNN2"
      }
    },
    {
      "cell_type": "markdown",
      "source": [
        "<h4><b>2. </b>Discutir matemáticamente, explicando con fórmulas, cómo funciona la rutina detrend de <i>scipy</i>.</h4>"
      ],
      "metadata": {
        "id": "VmoYtcArDamH"
      }
    },
    {
      "cell_type": "markdown",
      "source": [
        "<h4><b>3. </b>Discutir matemáticamente, explicando con fórmulas, cómo funciona el filtro hampel.</h4>"
      ],
      "metadata": {
        "id": "Q_mCJnTGDqHH"
      }
    },
    {
      "cell_type": "markdown",
      "source": [
        "<h4><b>4. </b>Discutir matemáticamente y desde la bioingeniería qué mide la entropia de permutación.</h4>"
      ],
      "metadata": {
        "id": "UW_xBex7D1Pv"
      }
    },
    {
      "cell_type": "markdown",
      "source": [
        "https://www.aptech.com/blog/permutation-entropy/"
      ],
      "metadata": {
        "id": "r_tnSS6BEHtV"
      }
    },
    {
      "cell_type": "markdown",
      "source": [
        "###<b>Organización de la base de datos</b>"
      ],
      "metadata": {
        "id": "Az7KJ2p1FCaT"
      }
    },
    {
      "cell_type": "markdown",
      "source": [
        "<h4>Se organizaron los archivos de las señales en carpetas específicas de las 3 poblaciones de estudio con los nombres que las caracterizan: <b>Parkinson, Huntington, ELA y Controles</b>.</h4>\n",
        "\n",
        "<h4>Los archivos se cargaron al Colab desde el repositorio <i>lab_biosenales</i>, ubicados en la carpeta del proyecto.</h4>"
      ],
      "metadata": {
        "id": "ColF5oUlFHaP"
      }
    },
    {
      "cell_type": "code",
      "source": [
        "!git clone https://github.com/marianayarce1224/lab_biosenales.git"
      ],
      "metadata": {
        "colab": {
          "base_uri": "https://localhost:8080/"
        },
        "id": "JrvNQ3RwszZb",
        "outputId": "904b12f2-495d-45a7-a58f-9c0932a929cb"
      },
      "execution_count": null,
      "outputs": [
        {
          "output_type": "stream",
          "name": "stdout",
          "text": [
            "Cloning into 'lab_biosenales'...\n",
            "remote: Enumerating objects: 290, done.\u001b[K\n",
            "remote: Counting objects: 100% (221/221), done.\u001b[K\n",
            "remote: Compressing objects: 100% (195/195), done.\u001b[K\n",
            "remote: Total 290 (delta 56), reused 87 (delta 16), pack-reused 69 (from 1)\u001b[K\n",
            "Receiving objects: 100% (290/290), 677.53 MiB | 32.24 MiB/s, done.\n",
            "Resolving deltas: 100% (59/59), done.\n",
            "Updating files: 100% (131/131), done.\n"
          ]
        }
      ]
    },
    {
      "cell_type": "code",
      "source": [
        "%cd /content/lab_biosenales/PROYECTO1"
      ],
      "metadata": {
        "colab": {
          "base_uri": "https://localhost:8080/"
        },
        "id": "ntPVxVhttHIV",
        "outputId": "f204ab15-5396-40a5-9992-37a424aa43f2"
      },
      "execution_count": null,
      "outputs": [
        {
          "output_type": "stream",
          "name": "stdout",
          "text": [
            "/content/lab_biosenales/PROYECTO1\n"
          ]
        }
      ]
    },
    {
      "cell_type": "code",
      "source": [
        "%ls Parkinson"
      ],
      "metadata": {
        "colab": {
          "base_uri": "https://localhost:8080/"
        },
        "id": "11XJ_Vbswpo8",
        "outputId": "fee401cd-0037-4556-c760-6a34ad342dbc"
      },
      "execution_count": null,
      "outputs": [
        {
          "output_type": "stream",
          "name": "stdout",
          "text": [
            "park10.ts  park12.ts  park14.ts  park1.ts  park3.ts  park5.ts  park7.ts  park9.ts\n",
            "park11.ts  park13.ts  park15.ts  park2.ts  park4.ts  park6.ts  park8.ts\n"
          ]
        }
      ]
    },
    {
      "cell_type": "code",
      "source": [
        "%ls Huntington"
      ],
      "metadata": {
        "colab": {
          "base_uri": "https://localhost:8080/"
        },
        "id": "koRJXykUw45t",
        "outputId": "0bcc63f0-490a-44c9-fd6b-7bf28368779f"
      },
      "execution_count": null,
      "outputs": [
        {
          "output_type": "stream",
          "name": "stdout",
          "text": [
            "hunt10.ts  hunt13.ts  hunt16.ts  hunt19.ts  hunt2.ts  hunt5.ts  hunt8.ts\n",
            "hunt11.ts  hunt14.ts  hunt17.ts  hunt1.ts   hunt3.ts  hunt6.ts  hunt9.ts\n",
            "hunt12.ts  hunt15.ts  hunt18.ts  hunt20.ts  hunt4.ts  hunt7.ts\n"
          ]
        }
      ]
    },
    {
      "cell_type": "code",
      "source": [
        "%ls ELA"
      ],
      "metadata": {
        "colab": {
          "base_uri": "https://localhost:8080/"
        },
        "outputId": "c2f3605b-267b-4c07-aa9c-64d794d6c180",
        "id": "5JsXuNnJLGZh"
      },
      "execution_count": null,
      "outputs": [
        {
          "output_type": "stream",
          "name": "stdout",
          "text": [
            "als10.ts  als12.ts  als1.ts  als3.ts  als5.ts  als7.ts  als9.ts\n",
            "als11.ts  als13.ts  als2.ts  als4.ts  als6.ts  als8.ts\n"
          ]
        }
      ]
    },
    {
      "cell_type": "code",
      "source": [
        "%ls Controles"
      ],
      "metadata": {
        "colab": {
          "base_uri": "https://localhost:8080/"
        },
        "outputId": "2bc7e0c7-d65f-42d2-fde4-b35fb8f45217",
        "id": "YwdS9VeeLIR4"
      },
      "execution_count": null,
      "outputs": [
        {
          "output_type": "stream",
          "name": "stdout",
          "text": [
            "control10.ts  control13.ts  control16.ts  control3.ts  control6.ts  control9.ts\n",
            "control11.ts  control14.ts  control1.ts   control4.ts  control7.ts\n",
            "control12.ts  control15.ts  control2.ts   control5.ts  control8.ts\n"
          ]
        }
      ]
    },
    {
      "cell_type": "markdown",
      "source": [
        "###<b>Programación</b>"
      ],
      "metadata": {
        "id": "6UgxevKlrEu5"
      }
    },
    {
      "cell_type": "markdown",
      "metadata": {
        "id": "Ww_gVRLMr_uN"
      },
      "source": [
        "<h4><b>1. </b>Crear una rutina que permita cargar un archivo .ts y extraiga las 4 señales de interés, de cada señal elimine los primeros 20 segundos, y las almacene en un ndarray.</h4>"
      ]
    },
    {
      "cell_type": "code",
      "source": [
        "import glob\n",
        "\n",
        "ruta_carpeta_parkinson = '/content/lab_biosenales/PROYECTO1/Parkinson/*.ts'\n",
        "lista_archivos_parkinson = [file.split('/')[-1] for file in glob.glob(ruta_carpeta_parkinson)]\n",
        "print(f'Archivos grupo Parkinson: {lista_archivos_parkinson}\\n')\n",
        "\n",
        "ruta_carpeta_huntington = '/content/lab_biosenales/PROYECTO1/Huntington/*.ts'\n",
        "lista_archivos_huntington = [file.split('/')[-1] for file in glob.glob(ruta_carpeta_huntington)]\n",
        "print(f'Archivos grupo Huntington: {lista_archivos_huntington}\\n')\n",
        "\n",
        "ruta_carpeta_ela = '/content/lab_biosenales/PROYECTO1/ELA/*.ts'\n",
        "lista_archivos_ela = [file.split('/')[-1] for file in glob.glob(ruta_carpeta_ela)]\n",
        "print(f'Archivos grupo ELA: {lista_archivos_ela}\\n')\n",
        "\n",
        "ruta_carpeta_control = '/content/lab_biosenales/PROYECTO1/Controles/*.ts'\n",
        "lista_archivos_control = [file.split('/')[-1] for file in glob.glob(ruta_carpeta_control)]\n",
        "print(f'Archivos grupo Controles: {lista_archivos_control}')"
      ],
      "metadata": {
        "colab": {
          "base_uri": "https://localhost:8080/"
        },
        "id": "hlYxT384ylVm",
        "outputId": "67dbe978-4e53-44ca-f2e3-34670c4cee94"
      },
      "execution_count": null,
      "outputs": [
        {
          "output_type": "stream",
          "name": "stdout",
          "text": [
            "Archivos grupo Parkinson: ['park7.ts', 'park15.ts', 'park6.ts', 'park4.ts', 'park9.ts', 'park11.ts', 'park2.ts', 'park8.ts', 'park3.ts', 'park10.ts', 'park1.ts', 'park12.ts', 'park14.ts', 'park13.ts', 'park5.ts']\n",
            "\n",
            "Archivos grupo Huntington: ['hunt10.ts', 'hunt20.ts', 'hunt1.ts', 'hunt18.ts', 'hunt4.ts', 'hunt19.ts', 'hunt5.ts', 'hunt3.ts', 'hunt9.ts', 'hunt14.ts', 'hunt15.ts', 'hunt2.ts', 'hunt16.ts', 'hunt13.ts', 'hunt6.ts', 'hunt7.ts', 'hunt8.ts', 'hunt17.ts', 'hunt12.ts', 'hunt11.ts']\n",
            "\n",
            "Archivos grupo ELA: ['als6.ts', 'als3.ts', 'als5.ts', 'als9.ts', 'als10.ts', 'als11.ts', 'als7.ts', 'als2.ts', 'als13.ts', 'als12.ts', 'als1.ts', 'als8.ts', 'als4.ts']\n",
            "\n",
            "Archivos grupo Controles: ['control14.ts', 'control7.ts', 'control13.ts', 'control2.ts', 'control12.ts', 'control8.ts', 'control16.ts', 'control5.ts', 'control6.ts', 'control9.ts', 'control1.ts', 'control15.ts', 'control11.ts', 'control3.ts', 'control10.ts', 'control4.ts']\n"
          ]
        }
      ]
    },
    {
      "cell_type": "markdown",
      "source": [
        "<h4><b>2. </b>Para cada señal eliminar los errores en tendencia usando la rutina detrend.</h4>"
      ],
      "metadata": {
        "id": "HnlvZ7oiG1UE"
      }
    },
    {
      "cell_type": "markdown",
      "source": [
        "<h4><b>3. </b>Para cada señal resultante del paso 2 eliminar los datos atípicos usando filtro hampel.</h4>"
      ],
      "metadata": {
        "id": "uAaTWr5fG4L2"
      }
    },
    {
      "cell_type": "markdown",
      "source": [
        "<h4><b>4. </b>Crear una función que reciba una señal de marcha y calcule el coeficiente de variación (CV) y la SD tal como se define en el artículo de referencia.</h4>"
      ],
      "metadata": {
        "id": "8gzBvIPWG5rM"
      }
    },
    {
      "cell_type": "markdown",
      "source": [
        "<h4><b>5. </b>Crear una función que reciba una señal de marcha y permita calcular la entropía de permutación.</h4>"
      ],
      "metadata": {
        "id": "V3uYrcnqG9dG"
      }
    },
    {
      "cell_type": "markdown",
      "source": [
        "<h4><b>6. </b>Crear una rutina que aplique sobre todos los archivos de la base de datos las rutina 1 y almacene los resultados en un dataframe donde se pueda discriminar nombre participante, condición (Parkinson, Huntington, ELA, Control) y los tres índices/características calculados por cada señal</h4>"
      ],
      "metadata": {
        "id": "aaP7RWaxG-_O"
      }
    },
    {
      "cell_type": "markdown",
      "source": [
        "###<b>Informe</b>"
      ],
      "metadata": {
        "id": "chUC0mpoGo14"
      }
    },
    {
      "cell_type": "markdown",
      "source": [
        "a. Discusión de las diferencias en los grupos usando las gráficas obtenidas usando estadística descriptiva (25%) b. Planteamiento de las hipótesis nulas y alternativas (5%), selección del tipo de prueba (paramétrica o no paramétrica) (10%) y discusión de los resultados (10%) c. Discutir los resultados obtenidos con los presentado en el artículo base (10%) d. Proponer cuales de las medidas usadas podrían servir para discriminar que poblaciones clínicas de los controles (10%)"
      ],
      "metadata": {
        "id": "Nnvhl80VGrz9"
      }
    },
    {
      "cell_type": "markdown",
      "source": [
        "##<b>Referencias</b>\n",
        "\n",
        "<b>[1]:</b> Hausdorff JM, Lertratanakul A, Cudkowicz ME, Peterson AL, Kaliton D, Goldberger AL. Dynamic markers of altered gait rhythm in amyotrophic lateral sclerosis. J Applied Physiology; 88:2045-2053, 2000.\n",
        "\n",
        "Gait in Neurodegenerative Disease Database. Available in https://physionet.org/content/gaitndd/1.0.0/"
      ],
      "metadata": {
        "id": "AptiHV5_AR1_"
      }
    }
  ],
  "metadata": {
    "kernelspec": {
      "display_name": "Python 3",
      "language": "python",
      "name": "python3"
    },
    "language_info": {
      "codemirror_mode": {
        "name": "ipython",
        "version": 3
      },
      "file_extension": ".py",
      "mimetype": "text/x-python",
      "name": "python",
      "nbconvert_exporter": "python",
      "pygments_lexer": "ipython3",
      "version": "3.10.11"
    },
    "colab": {
      "provenance": [],
      "collapsed_sections": [
        "vEpXkDbrApI2",
        "BQuzh0KbDJyg",
        "Az7KJ2p1FCaT",
        "chUC0mpoGo14"
      ],
      "include_colab_link": true
    }
  },
  "nbformat": 4,
  "nbformat_minor": 0
}