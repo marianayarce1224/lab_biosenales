{
  "cells": [
    {
      "cell_type": "markdown",
      "metadata": {
        "id": "view-in-github",
        "colab_type": "text"
      },
      "source": [
        "<a href=\"https://colab.research.google.com/github/marianayarce1224/lab_biosenales/blob/main/PROYECTO1/Proyecto1_G3.ipynb\" target=\"_parent\"><img src=\"https://colab.research.google.com/assets/colab-badge.svg\" alt=\"Open In Colab\"/></a>"
      ]
    },
    {
      "cell_type": "markdown",
      "metadata": {
        "id": "vc6ymXpur_uK"
      },
      "source": [
        "<p align=\"left\"><img alt=\"udeA logo\" height=\"150px\" src=\"https://www.udea.edu.co/wps/wcm/connect/udea/99fc43e7-7a64-45bd-97fc-96639b70813d/logosimbolo-vertical.png?MOD=AJPERES&CVID=ljeLvHr\"></p>\n",
        "\n",
        "<h1><b>Proyecto 1: Análisis estadístico\n",
        "</b></h1>\n",
        "<h4><b>Bioseñales y sistemas<br>Universidad de Antioquia, Facultad de Ingeniería - Bioingeniería<br>2024-2</b></h4><br>\n",
        "\n",
        "<h4><b>Grupo:</b> 3</h4>\n",
        "<h4><b>Integrantes:</b> Mariana Álvarez Yarce - Ana María Seguro Acevedo</h4>"
      ]
    },
    {
      "cell_type": "markdown",
      "source": [
        "##<b>Contexto del problema</b>\n",
        "\n",
        "<h4>Las enfermedades neurodegenerativas a menudo afectan la marcha y la movilidad. Para comprender mejor la fisiopatología de estas enfermedades y mejorar nuestra capacidad de medir las respuestas a las intervenciones terapéuticas, puede resultar útil cuantificar con precisión la dinámica de la marcha <b>[1]</b>.</h4>"
      ],
      "metadata": {
        "id": "hvJrsSTuAEXf"
      }
    },
    {
      "cell_type": "markdown",
      "source": [
        "##<b>Origen de los datos</b>"
      ],
      "metadata": {
        "id": "vEpXkDbrApI2"
      }
    },
    {
      "cell_type": "markdown",
      "source": [
        "<h4>Los registros de esta base de datos provienen de pacientes con enfermedad de Parkinson ($n=15$), enfermedad de Huntington ($n=20$) y esclerosis lateral amiotrófica ($n=13$). Aquí también se incluyen registros de 16 sujetos de control sanos <b>[1]</b>.</h4>\n",
        "\n",
        "<h4>De los archivos (.ts) se analizarán las señales:</h4>\n",
        "\n",
        "* <h4>Tiempo transcurrido (sec)</h4>\n",
        "* <h4>Intervalo entre pasos pie izquierdo (sec)</h4>\n",
        "* <h4>Intervalo entre pasos pie derecho (sec)</h4>\n",
        "* <h4>Intervalo balanceo pie izquierdo (sec)</h4>\n",
        "* <h4>Intervalo balanceo pie derecho (sec)</h4>\n"
      ],
      "metadata": {
        "id": "dmR2sqJ2AzWG"
      }
    },
    {
      "cell_type": "markdown",
      "source": [
        "##<b>Requerimientos</b>"
      ],
      "metadata": {
        "id": "-PKBa5RcETNH"
      }
    },
    {
      "cell_type": "markdown",
      "source": [
        "###<b>Contexto</b>"
      ],
      "metadata": {
        "id": "BQuzh0KbDJyg"
      }
    },
    {
      "cell_type": "markdown",
      "source": [
        "<h4><b>1. </b>Consultar para enfermedad de Parkinson, Huntington y Esclerosis Lateral Amiotrófica cómo se diagnostican y el reto que existe para el diagnóstico temprano de dichas enfermedades.</h4>\n",
        "\n",
        "> <b>Parkinson:</b> es una condición neurodegenerativa caracterizada por la pérdida progresiva de neuronas en áreas del cerebro que conforman el Sistema Nervioso Central (SNC). Se presenta una disminución en la producción de dopamina que causa una alteración de las estructuras neuromotoras <b>[2]</b>.<br><br>\n",
        "Por lo general, el diagnóstico de la enfermedad requiere de una evaluación de la historia clínica y antecedentes familiares del paciente, así como una examinación física y neurológica del mismo. En otros casos se realizan pruebas imagenológicas y de detección de dopamina, para reafirmar el desarrollo de la enfermedad o descartar otras enfermedades. Sin embargo, las pruebas de imágenes no presentan gran eficiencia en la detección particular del Parkinson <b>[3]</b>."
      ],
      "metadata": {
        "id": "zMDo1kaBDNN2"
      }
    },
    {
      "cell_type": "markdown",
      "source": [
        "<h4><b>2. </b>Discutir matemáticamente, explicando con fórmulas, cómo funciona la rutina detrend de <i>scipy</i>.</h4>\n",
        "\n",
        "> La función detrend permite eliminar tendencias polinomiales de datos en un eje o dimensión de un arreglo que represente una serie temporal de datos. Esto permite analizar las fluctuaciones reales de una señal sin considerar el error introducido por una tendencia dependiente del tiempo.<br><br>\n",
        "En el caso de una tendencia lineal, que es la más usada para el proceso de <i>detrending</i> y la configuración por defecto de la función detrend de <i>scipy</i>, se puede expresar esta como una función de una línea (polinomio de grado 1):\n",
        "<center>$y(t)=mt+b+ϵ(t)$</center>\n",
        "\n",
        "> <b>Donde</b><br>\n",
        "$m$ es la pendiente de la línea (tendencia)<br>\n",
        "$b$ es la intersección con el eje y (constante)<br>\n",
        "$ϵ(t)$ es el ruido en los datos<br><br>\n",
        "A partir de la función, se busca encontrar los valores de $m$ y $b$ que minimicen el error cuadrático entre los valores originales y los valores de tendencia. Se deriva parcialmente y se iguala a 0 la siguiente ecuación, para hallar los valores mínimos:\n",
        "<center>$$S=\\sum_{t=1}^{N} (y(t)−(mt+b))^2$$</center><br>\n",
        "<center>$$\\frac{∂S}{∂b}=-2\\sum_{t=1}^{N} (y(t)−(mt+b))=0$$</center><br>\n",
        "<center>$$\\sum_{t=1}^{N} (y(t)−(mt+b))=0$$</center>\n",
        "\n",
        "> Simplificando las sumatorias se obtiene:\n",
        "<center>$$\\sum_{t=1}^{N} y(t)=Nb+m\\sum_{t=1}^{N} t$$</center><br>\n",
        "\n",
        "> Derivando parcialmente con respecto a $m$:\n",
        "<center>$$\\frac{∂S}{∂b}=-2\\sum_{t=1}^{N} t(y(t)−(mt+b))=0$$</center><br>\n",
        "<center>$$\\sum_{t=1}^{N} t(y(t)−(mt+b))=0$$</center><br>\n",
        "<center>$$\\sum_{t=1}^{N} ty(t)=b\\sum_{t=1}^{N} t+m\\sum_{t=1}^{N} t^2$$</center>\n",
        "\n",
        "> A partir de estas sumatorias, se crea un sistemas de ecuaciones para hallar los valores de $m$ y $b$ que minimizan el error y se reemplazan en la función con detrend.\n",
        "<center>$$b=\\frac{\\sum_{t=1}^{N} y(t)-m\\sum_{t=1}^{N} t}{N}$$</center><br>\n",
        "<center>$$\\sum_{t=1}^{N} ty(t)=\\left(\\frac{\\sum_{t=1}^{N} y(t)-m\\sum_{t=1}^{N} t}{N}\\right)\\sum_{t=1}^{N} t+m\\sum_{t=1}^{N} t^2$$</center>\n",
        "\n",
        "> Simplificando y despejando $m$ se obtiene:\n",
        "<center>$$m=\\frac{N\\sum_{t=1}^{N} ty(t)-\\left(\\sum_{t=1}^{N} y(t)\\sum_{t=1}^{N} t\\right)}{N\\sum_{t=1}^{N} t^2-\\left(\\sum_{t=1}^{N} t\\right)^2}$$</center>\n",
        "\n",
        "> Sustituyendo $m$ se obtiene $b$:\n",
        "<center>$$b=\\frac{\\sum_{t=1}^{N} y(t)-m\\sum_{t=1}^{N} t}{N}$$</center>\n",
        "\n",
        "> La rutina detrend de <i>scipy</i> realiza la estimación de los valores que minimizan el error para la pendiente e intercepto de la función lineal, y los valores resultantes representan el nuevo vector de la señal.\n",
        "\n",
        "\n",
        "\n",
        "\n",
        "\n"
      ],
      "metadata": {
        "id": "VmoYtcArDamH"
      }
    },
    {
      "cell_type": "markdown",
      "source": [
        "<h4><b>3. </b>Discutir matemáticamente, explicando con fórmulas, cómo funciona el filtro hampel.</h4>\n",
        "\n",
        "> Un filtro Hampel es una función no lineal para eliminar datos atípicos en series temporales de datos, a partir de la mediana y la desviación absoluta mediana (MAD) calculada para cada muestra de un arreglo a través de comparaciones con los valores vecinos. La configuración del filtro se hace a través de los siguientes parámetros:<br><br>\n",
        "$k$: número de valores vecinos<br>\n",
        "$σ$: factor de sensibilidad del filtro (comúnmente se establece $σ=3$)<br><br>\n",
        "Suponiendo que se cuenta con un vector de muestras $x(t)$ con $t=1,2,3,...,N$ ($N$ es el número total de muestras), el filtro Hampel crea subconjuntos para cada muestra $x_i$ con una ventana de datos de tamaño $2k+1$, que se centra en el dato $x_i$ y toma los $k$ datos a la derecha e izquierda más cercanos a dicho centro. Estos subconjuntos representan ventanas sobre las cuales se calculan la mediana y MAD locales, que sirven para identificar los datos atípicos por tramos. Matemáticamente, se puede expresar este proceso de la siguiente manera:\n",
        "\n",
        "- <b>Definición del subconjunto</b><br><br>\n",
        "<center>$S(t)={x(t−k),x(t−k+1),…,x(t),…,x(t+k)}$</center><br>\n",
        "- <b>Cálculo de la mediana local del subconjunto</b><br><br>\n",
        "<center>$mediana(S(t))=S(t)_{\\frac{S+1}{2}}$</center><br>\n",
        "- <b>Cálculo de la desviación de cada elemento del subconjunto respecto a la mediana local</b><br><br>\n",
        "<center>$d(t)=\\left| x(t)-{S(t)_{\\frac{S+1}{2}}}\\right|$</center><br>\n",
        "- <b>Cálculo de la MAD del subconjunto</b><br><br>\n",
        "<center>$MAD(t)=Mediana({d(t−k),d(t−k+1),…,d(t),…,d(t+k)})$</center><br>\n",
        "- <b>Definición de umbral para valores atípicos</b><br><br>\n",
        "<center>$\\left| x(t)-{S(t)_{\\frac{S+1}{2}}}\\right|\\gt σ ⋅ MAD(t)$</center><br>\n",
        "\n",
        ">Si se cumple la desigualdad anterior, significa que el valor $x(t)$ sobrepasa el umbral de desviación del subconjunto y es atípico, por lo que se reemplaza con el valor de la mediana local, para aplanar el conjunto de puntos. En caso de que no se cumpla la desigualdad, el valor centrado no se modifica."
      ],
      "metadata": {
        "id": "Q_mCJnTGDqHH"
      }
    },
    {
      "cell_type": "markdown",
      "source": [
        "<h4><b>4. </b>Discutir matemáticamente y desde la bioingeniería qué mide la entropia de permutación.</h4>"
      ],
      "metadata": {
        "id": "UW_xBex7D1Pv"
      }
    },
    {
      "cell_type": "markdown",
      "source": [
        "https://www.aptech.com/blog/permutation-entropy/"
      ],
      "metadata": {
        "id": "r_tnSS6BEHtV"
      }
    },
    {
      "cell_type": "markdown",
      "source": [
        "###<b>Organización de la base de datos</b>"
      ],
      "metadata": {
        "id": "Az7KJ2p1FCaT"
      }
    },
    {
      "cell_type": "markdown",
      "source": [
        "<h4>Se organizaron los archivos de las señales en carpetas específicas de las 3 poblaciones de estudio con los nombres que las caracterizan: <b>Parkinson, Huntington, ELA y Controles</b>.</h4>\n",
        "\n",
        "<h4>Los archivos se cargaron al Colab desde el repositorio <i>lab_biosenales</i>, ubicados en la carpeta del proyecto.</h4>"
      ],
      "metadata": {
        "id": "ColF5oUlFHaP"
      }
    },
    {
      "cell_type": "code",
      "source": [
        "!git clone https://github.com/marianayarce1224/lab_biosenales.git"
      ],
      "metadata": {
        "colab": {
          "base_uri": "https://localhost:8080/"
        },
        "id": "JrvNQ3RwszZb",
        "outputId": "8e7498a2-a269-4226-f225-d2f8f5ec8625"
      },
      "execution_count": 21,
      "outputs": [
        {
          "output_type": "stream",
          "name": "stdout",
          "text": [
            "Cloning into 'lab_biosenales'...\n",
            "remote: Enumerating objects: 294, done.\u001b[K\n",
            "remote: Counting objects: 100% (225/225), done.\u001b[K\n",
            "remote: Compressing objects: 100% (199/199), done.\u001b[K\n",
            "remote: Total 294 (delta 59), reused 87 (delta 16), pack-reused 69 (from 1)\u001b[K\n",
            "Receiving objects: 100% (294/294), 677.54 MiB | 27.98 MiB/s, done.\n",
            "Resolving deltas: 100% (62/62), done.\n",
            "Updating files: 100% (131/131), done.\n"
          ]
        }
      ]
    },
    {
      "cell_type": "code",
      "source": [
        "%cd /content/lab_biosenales/PROYECTO1"
      ],
      "metadata": {
        "colab": {
          "base_uri": "https://localhost:8080/"
        },
        "id": "ntPVxVhttHIV",
        "outputId": "eab64ebf-65ef-4f9b-f7d3-1c25ba1ab376"
      },
      "execution_count": 22,
      "outputs": [
        {
          "output_type": "stream",
          "name": "stdout",
          "text": [
            "/content/lab_biosenales/PROYECTO1\n"
          ]
        }
      ]
    },
    {
      "cell_type": "code",
      "source": [
        "%ls Parkinson"
      ],
      "metadata": {
        "colab": {
          "base_uri": "https://localhost:8080/"
        },
        "id": "11XJ_Vbswpo8",
        "outputId": "08b12e53-68ea-4dc3-de2c-cfd15e235e08"
      },
      "execution_count": 23,
      "outputs": [
        {
          "output_type": "stream",
          "name": "stdout",
          "text": [
            "park10.ts  park12.ts  park14.ts  park1.ts  park3.ts  park5.ts  park7.ts  park9.ts\n",
            "park11.ts  park13.ts  park15.ts  park2.ts  park4.ts  park6.ts  park8.ts\n"
          ]
        }
      ]
    },
    {
      "cell_type": "code",
      "source": [
        "%ls Huntington"
      ],
      "metadata": {
        "colab": {
          "base_uri": "https://localhost:8080/"
        },
        "id": "koRJXykUw45t",
        "outputId": "2491deba-3fd9-411a-8ae3-e9d7fce922b3"
      },
      "execution_count": 24,
      "outputs": [
        {
          "output_type": "stream",
          "name": "stdout",
          "text": [
            "hunt10.ts  hunt13.ts  hunt16.ts  hunt19.ts  hunt2.ts  hunt5.ts  hunt8.ts\n",
            "hunt11.ts  hunt14.ts  hunt17.ts  hunt1.ts   hunt3.ts  hunt6.ts  hunt9.ts\n",
            "hunt12.ts  hunt15.ts  hunt18.ts  hunt20.ts  hunt4.ts  hunt7.ts\n"
          ]
        }
      ]
    },
    {
      "cell_type": "code",
      "source": [
        "%ls ELA"
      ],
      "metadata": {
        "colab": {
          "base_uri": "https://localhost:8080/"
        },
        "outputId": "48f74924-9fe2-4cab-fa3b-0682ab41c216",
        "id": "5JsXuNnJLGZh"
      },
      "execution_count": 25,
      "outputs": [
        {
          "output_type": "stream",
          "name": "stdout",
          "text": [
            "als10.ts  als12.ts  als1.ts  als3.ts  als5.ts  als7.ts  als9.ts\n",
            "als11.ts  als13.ts  als2.ts  als4.ts  als6.ts  als8.ts\n"
          ]
        }
      ]
    },
    {
      "cell_type": "code",
      "source": [
        "%ls Controles"
      ],
      "metadata": {
        "colab": {
          "base_uri": "https://localhost:8080/"
        },
        "outputId": "4e814f9a-d7af-4834-98d0-ebec23faec68",
        "id": "YwdS9VeeLIR4"
      },
      "execution_count": 26,
      "outputs": [
        {
          "output_type": "stream",
          "name": "stdout",
          "text": [
            "control10.ts  control13.ts  control16.ts  control3.ts  control6.ts  control9.ts\n",
            "control11.ts  control14.ts  control1.ts   control4.ts  control7.ts\n",
            "control12.ts  control15.ts  control2.ts   control5.ts  control8.ts\n"
          ]
        }
      ]
    },
    {
      "cell_type": "markdown",
      "source": [
        "###<b>Programación</b>"
      ],
      "metadata": {
        "id": "6UgxevKlrEu5"
      }
    },
    {
      "cell_type": "markdown",
      "metadata": {
        "id": "Ww_gVRLMr_uN"
      },
      "source": [
        "<h4><b>1. </b>Crear una rutina que permita cargar un archivo .ts y extraiga las 4 señales de interés, de cada señal elimine los primeros 20 segundos, y las almacene en un ndarray.</h4>"
      ]
    },
    {
      "cell_type": "markdown",
      "source": [
        "Para cargar las señales, se separaron los archivos en una lista por cada grupo. Posteriormente, se convirtieron los registros a arreglos (ndarray) y se seleccionaron las primeras 5 columnas, que corresponden a las señales de interés y el tiempo transcurrido (primera columna con índice 0). A las señales ya se les habían eliminado los primeros 20 segundos, por lo que no se eliminaron más registros de tiempo."
      ],
      "metadata": {
        "id": "WgLF7Epn034X"
      }
    },
    {
      "cell_type": "code",
      "source": [
        "import glob\n",
        "\n",
        "ruta_carpeta_parkinson = '/content/lab_biosenales/PROYECTO1/Parkinson/*.ts'\n",
        "lista_archivos_parkinson = [file.split('/')[-1] for file in glob.glob(ruta_carpeta_parkinson)]\n",
        "print(f'Archivos grupo Parkinson: {lista_archivos_parkinson}\\n')\n",
        "\n",
        "ruta_carpeta_huntington = '/content/lab_biosenales/PROYECTO1/Huntington/*.ts'\n",
        "lista_archivos_huntington = [file.split('/')[-1] for file in glob.glob(ruta_carpeta_huntington)]\n",
        "print(f'Archivos grupo Huntington: {lista_archivos_huntington}\\n')\n",
        "\n",
        "ruta_carpeta_ela = '/content/lab_biosenales/PROYECTO1/ELA/*.ts'\n",
        "lista_archivos_ela = [file.split('/')[-1] for file in glob.glob(ruta_carpeta_ela)]\n",
        "print(f'Archivos grupo ELA: {lista_archivos_ela}\\n')\n",
        "\n",
        "ruta_carpeta_control = '/content/lab_biosenales/PROYECTO1/Controles/*.ts'\n",
        "lista_archivos_control = [file.split('/')[-1] for file in glob.glob(ruta_carpeta_control)]\n",
        "print(f'Archivos grupo Controles: {lista_archivos_control}')"
      ],
      "metadata": {
        "colab": {
          "base_uri": "https://localhost:8080/"
        },
        "id": "hlYxT384ylVm",
        "outputId": "9192201b-3dfe-4798-b89d-5dc329a538cb"
      },
      "execution_count": null,
      "outputs": [
        {
          "output_type": "stream",
          "name": "stdout",
          "text": [
            "Archivos grupo Parkinson: ['park11.ts', 'park5.ts', 'park15.ts', 'park13.ts', 'park4.ts', 'park7.ts', 'park6.ts', 'park9.ts', 'park8.ts', 'park14.ts', 'park2.ts', 'park10.ts', 'park1.ts', 'park12.ts', 'park3.ts']\n",
            "\n",
            "Archivos grupo Huntington: ['hunt9.ts', 'hunt8.ts', 'hunt10.ts', 'hunt19.ts', 'hunt16.ts', 'hunt20.ts', 'hunt6.ts', 'hunt5.ts', 'hunt3.ts', 'hunt17.ts', 'hunt14.ts', 'hunt2.ts', 'hunt18.ts', 'hunt11.ts', 'hunt4.ts', 'hunt13.ts', 'hunt15.ts', 'hunt7.ts', 'hunt12.ts', 'hunt1.ts']\n",
            "\n",
            "Archivos grupo ELA: ['als10.ts', 'als9.ts', 'als4.ts', 'als12.ts', 'als8.ts', 'als11.ts', 'als5.ts', 'als7.ts', 'als13.ts', 'als1.ts', 'als2.ts', 'als6.ts', 'als3.ts']\n",
            "\n",
            "Archivos grupo Controles: ['control1.ts', 'control8.ts', 'control16.ts', 'control5.ts', 'control3.ts', 'control7.ts', 'control11.ts', 'control2.ts', 'control14.ts', 'control13.ts', 'control4.ts', 'control12.ts', 'control15.ts', 'control9.ts', 'control6.ts', 'control10.ts']\n"
          ]
        }
      ]
    },
    {
      "cell_type": "code",
      "execution_count": null,
      "metadata": {
        "id": "-Ru2qYqYr_uQ"
      },
      "outputs": [],
      "source": [
        "import numpy as np\n",
        "\n",
        "datos_parkinson = []\n",
        "for archivo in lista_archivos_parkinson:\n",
        "  senal_continua = np.loadtxt(ruta_carpeta_parkinson[:-4] + archivo, delimiter='\\t')[:,0:4]\n",
        "  datos_parkinson.append(senal_continua)\n",
        "\n",
        "datos_huntington=[]\n",
        "for archivo in lista_archivos_huntington:\n",
        "  senal_continua = np.loadtxt(ruta_carpeta_huntington[:-4] + archivo, delimiter='\\t')[:,0:4]\n",
        "  datos_huntington.append(senal_continua)\n",
        "\n",
        "datos_ela=[]\n",
        "for archivo in lista_archivos_ela:\n",
        "  senal_continua = np.loadtxt(ruta_carpeta_ela[:-4] + archivo, delimiter='\\t')[:,0:4]\n",
        "  datos_ela.append(senal_continua)\n",
        "\n",
        "datos_control=[]\n",
        "for archivo in lista_archivos_control:\n",
        "  senal_continua = np.loadtxt(ruta_carpeta_control[:-4] + archivo, delimiter='\\t')[:,0:4]\n",
        "  datos_control.append(senal_continua)"
      ]
    },
    {
      "cell_type": "markdown",
      "source": [
        "<h4><b>2. </b>Para cada señal eliminar los errores en tendencia usando la rutina detrend.</h4>"
      ],
      "metadata": {
        "id": "HnlvZ7oiG1UE"
      }
    },
    {
      "cell_type": "markdown",
      "source": [
        "<h4><b>3. </b>Para cada señal resultante del paso 2 eliminar los datos atípicos usando filtro hampel.</h4>"
      ],
      "metadata": {
        "id": "uAaTWr5fG4L2"
      }
    },
    {
      "cell_type": "code",
      "source": [
        "def filtro_hampel(senal, k=3, sigma=3):\n",
        "    filtered_data = senal.copy()\n",
        "\n",
        "    for x_t in range(k, len(senal) - k):\n",
        "        ventana = senal[x_t - k : x_t + k + 1]\n",
        "        mediana_local = np.median(ventana)\n",
        "        mad = np.median(np.abs(ventana - mediana_local))\n",
        "        umbral = np.abs(senal[x_t] - mediana_local)\n",
        "\n",
        "        if umbral > (sigma * mad):\n",
        "            filtered_data[x_t] = mediana_local\n",
        "    return filtered_data"
      ],
      "metadata": {
        "id": "u96W3H5UIg53"
      },
      "execution_count": null,
      "outputs": []
    },
    {
      "cell_type": "markdown",
      "source": [
        "<h4><b>4. </b>Crear una función que reciba una señal de marcha y calcule el coeficiente de variación (CV) y la SD tal como se define en el artículo de referencia.</h4>"
      ],
      "metadata": {
        "id": "8gzBvIPWG5rM"
      }
    },
    {
      "cell_type": "markdown",
      "source": [
        "<h4><b>5. </b>Crear una función que reciba una señal de marcha y permita calcular la entropía de permutación.</h4>"
      ],
      "metadata": {
        "id": "V3uYrcnqG9dG"
      }
    },
    {
      "cell_type": "markdown",
      "source": [
        "<h4><b>6. </b>Crear una rutina que aplique sobre todos los archivos de la base de datos las rutina 1 y almacene los resultados en un dataframe donde se pueda discriminar nombre participante, condición (Parkinson, Huntington, ELA, Control) y los tres índices/características calculados por cada señal</h4>"
      ],
      "metadata": {
        "id": "aaP7RWaxG-_O"
      }
    },
    {
      "cell_type": "markdown",
      "source": [
        "###<b>Informe</b>"
      ],
      "metadata": {
        "id": "chUC0mpoGo14"
      }
    },
    {
      "cell_type": "markdown",
      "source": [
        "a. Discusión de las diferencias en los grupos usando las gráficas obtenidas usando estadística descriptiva (25%) b. Planteamiento de las hipótesis nulas y alternativas (5%), selección del tipo de prueba (paramétrica o no paramétrica) (10%) y discusión de los resultados (10%) c. Discutir los resultados obtenidos con los presentado en el artículo base (10%) d. Proponer cuales de las medidas usadas podrían servir para discriminar que poblaciones clínicas de los controles (10%)"
      ],
      "metadata": {
        "id": "Nnvhl80VGrz9"
      }
    },
    {
      "cell_type": "markdown",
      "source": [
        "##<b>Referencias</b>\n",
        "\n",
        "<b>[1]:</b> Hausdorff JM, Lertratanakul A, Cudkowicz ME, Peterson AL, Kaliton D, Goldberger AL. Dynamic markers of altered gait rhythm in amyotrophic lateral sclerosis. J Applied Physiology; 88:2045-2053, 2000.\n",
        "\n",
        "Gait in Neurodegenerative Disease Database. Available in https://physionet.org/content/gaitndd/1.0.0/\n",
        "\n",
        "<b>[2]:</b> CUN. (n.d.). Enfermedad de Parkinson. Clínica Universidad de Navarra. https://www.cun.es/enfermedades-tratamientos/enfermedades/enfermedad-parkinson\n",
        "\n",
        "<b>[3]:</b> Mayo Clinic. (2024, 5 de abril). Mayo Clinic. Enfermedad de Parkinson: diagnóstico y tratamiento. https://www.mayoclinic.org/es/diseases-conditions/parkinsons-disease/diagnosis-treatment/drc-20376062"
      ],
      "metadata": {
        "id": "AptiHV5_AR1_"
      }
    }
  ],
  "metadata": {
    "kernelspec": {
      "display_name": "Python 3",
      "language": "python",
      "name": "python3"
    },
    "language_info": {
      "codemirror_mode": {
        "name": "ipython",
        "version": 3
      },
      "file_extension": ".py",
      "mimetype": "text/x-python",
      "name": "python",
      "nbconvert_exporter": "python",
      "pygments_lexer": "ipython3",
      "version": "3.10.11"
    },
    "colab": {
      "provenance": [],
      "collapsed_sections": [
        "vEpXkDbrApI2",
        "BQuzh0KbDJyg",
        "Az7KJ2p1FCaT"
      ],
      "include_colab_link": true
    }
  },
  "nbformat": 4,
  "nbformat_minor": 0
}