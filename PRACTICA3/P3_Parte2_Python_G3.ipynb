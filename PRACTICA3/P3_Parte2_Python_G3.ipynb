{
 "cells": [
  {
   "cell_type": "markdown",
   "metadata": {},
   "source": [
    "<p align=\"left\"><img alt=\"udeA logo\" height=\"150px\" src=\"https://www.udea.edu.co/wps/wcm/connect/udea/99fc43e7-7a64-45bd-97fc-96639b70813d/logosimbolo-vertical.png?MOD=AJPERES&CVID=ljeLvHr\"></p>\n",
    "\n",
    "<h1><b>Práctica 3 - Parte 2: Comparación estadística de Energía de señales EEG\n",
    "</b></h1>\n",
    "<h4><b>Bioseñales y sistemas<br>Universidad de Antioquia, Facultad de Ingeniería - Bioingeniería<br>2024-2</b></h4><br>\n",
    "\n",
    "<h4><b>Grupo:</b> 3</h4>\n",
    "<h4><b>Integrantes:</b> Mariana Álvarez Yarce - Ana María Seguro Acevedo</h4>"
   ]
  },
  {
   "cell_type": "markdown",
   "metadata": {},
   "source": [
    "Se cuenta con señales de EEG de dos grupos de personas, un grupo control y un grupo de pacientes con enfermedad de Parkinson. Se tiene evidencia que la energía de las señales de EEG puede conducir a diferenciar entre señales de pacientes con enfermedad de Parkinson y sanos. Se pide calcular la Energía promedio por grupo poblacional de cada canal.\n",
    "\n",
    "1.Implemente una función que reciba una señal de múltiples canales y épocas y calcule la Energía de promedio de cada canal.\n",
    "$$  \n",
    "E \\equiv \\sum_{n=-\\infty}^{\\infty} |x(n)|^2  \n",
    "$$  "
   ]
  },
  {
   "cell_type": "code",
   "execution_count": 1,
   "metadata": {},
   "outputs": [],
   "source": [
    "import numpy as np\n",
    "\n",
    "def energia(señal):\n",
    "    \n",
    "    señal_cuadrada = np.square(señal)\n",
    "    # energía total por canal\n",
    "    energia_t = np.sum(señal_cuadrada, axis=(0, 1))\n",
    "    # total de épocas y muestras\n",
    "    n_epocas, n_muestras, n_canales = señal.shape\n",
    "    ntotal= n_epocas * n_muestras\n",
    "    # energía promedio por canal\n",
    "    energia_prom = energia_t / ntotal\n",
    "    return energia_prom\n",
    "\n",
    "\n"
   ]
  },
  {
   "cell_type": "code",
   "execution_count": 20,
   "metadata": {},
   "outputs": [],
   "source": [
    "import os\n",
    "import scipy.io as sio;\n",
    "archivo=os.getcwd()\n",
    "control=os.listdir(archivo + \"/control\")\n",
    "parkinson=os.listdir(archivo + \"/parkinson\")\n",
    "path_subjecti=(archivo + \"/control\" + \"/\" + control[0])\n",
    "data = sio.loadmat(path_subjecti)\n",
    "data=data['data']\n",
    "control_dataframes = {}\n",
    "parkinson_dataframes = {}\n",
    "\n",
    "# Iterar sobre los archivos de control\n",
    "for i, file in enumerate(control_files):\n",
    "    path_subject = os.path.join(archivo, \"control\", file)\n",
    "    data = sio.loadmat(path_subject)\n",
    "    data_df = pd.DataFrame(data['data'])  # Crear un DataFrame con los datos\n",
    "    control_dataframes[f'control_subject_{i+1}'] = data_df  # Guardar en el diccionario\n",
    "\n"
   ]
  },
  {
   "cell_type": "code",
   "execution_count": 17,
   "metadata": {},
   "outputs": [],
   "source": []
  },
  {
   "cell_type": "markdown",
   "metadata": {},
   "source": [
    "2.Calcule la energía de cada canal promediada por épocas para cada sujeto, esto para ambos grupos poblacionales. Guarde esta información en un DataFrame de columnas ‘canal’ y filas ‘#sujeto’ con los valores de energía calculados, un DataFrame para cada grupo poblacional."
   ]
  },
  {
   "cell_type": "code",
   "execution_count": 14,
   "metadata": {},
   "outputs": [
    {
     "ename": "PermissionError",
     "evalue": "[Errno 13] Permission denied: 'c:\\\\Users\\\\Mariana\\\\OneDrive\\\\Documentos\\\\BIOSEÑALES\\\\lab_biosenales\\\\PRACTICA3\\\\parkinson'",
     "output_type": "error",
     "traceback": [
      "\u001b[1;31m---------------------------------------------------------------------------\u001b[0m",
      "\u001b[1;31mPermissionError\u001b[0m                           Traceback (most recent call last)",
      "Cell \u001b[1;32mIn[14], line 1\u001b[0m\n\u001b[1;32m----> 1\u001b[0m eparkinson \u001b[38;5;241m=\u001b[39m \u001b[43mcalcular_energia\u001b[49m\u001b[43m(\u001b[49m\u001b[38;5;124;43m'\u001b[39;49m\u001b[38;5;124;43mc:\u001b[39;49m\u001b[38;5;130;43;01m\\\\\u001b[39;49;00m\u001b[38;5;124;43mUsers\u001b[39;49m\u001b[38;5;130;43;01m\\\\\u001b[39;49;00m\u001b[38;5;124;43mMariana\u001b[39;49m\u001b[38;5;130;43;01m\\\\\u001b[39;49;00m\u001b[38;5;124;43mOneDrive\u001b[39;49m\u001b[38;5;130;43;01m\\\\\u001b[39;49;00m\u001b[38;5;124;43mDocumentos\u001b[39;49m\u001b[38;5;130;43;01m\\\\\u001b[39;49;00m\u001b[38;5;124;43mBIOSEÑALES\u001b[39;49m\u001b[38;5;130;43;01m\\\\\u001b[39;49;00m\u001b[38;5;124;43mlab_biosenales\u001b[39;49m\u001b[38;5;130;43;01m\\\\\u001b[39;49;00m\u001b[38;5;124;43mPRACTICA3\u001b[39;49m\u001b[38;5;130;43;01m\\\\\u001b[39;49;00m\u001b[38;5;124;43mparkinson\u001b[39;49m\u001b[38;5;124;43m'\u001b[39;49m\u001b[43m)\u001b[49m\n\u001b[0;32m      2\u001b[0m \u001b[38;5;66;03m#econtrol = calcular_energia('control')\u001b[39;00m\n\u001b[0;32m      3\u001b[0m n_sujetos, n_canales \u001b[38;5;241m=\u001b[39m eparkinson\u001b[38;5;241m.\u001b[39mshape\n",
      "Cell \u001b[1;32mIn[13], line 8\u001b[0m, in \u001b[0;36mcalcular_energia\u001b[1;34m(ruta)\u001b[0m\n\u001b[0;32m      4\u001b[0m energia_sujeto\u001b[38;5;241m=\u001b[39m []\n\u001b[0;32m      5\u001b[0m \u001b[38;5;66;03m#for archivo in os.listdir(ruta):\u001b[39;00m\n\u001b[0;32m      6\u001b[0m     \n\u001b[0;32m      7\u001b[0m     \u001b[38;5;66;03m#ruta = os.path.join(carpeta, archivo)\u001b[39;00m\n\u001b[1;32m----> 8\u001b[0m señal \u001b[38;5;241m=\u001b[39m \u001b[43mnp\u001b[49m\u001b[38;5;241;43m.\u001b[39;49m\u001b[43mload\u001b[49m\u001b[43m(\u001b[49m\u001b[43mruta\u001b[49m\u001b[43m)\u001b[49m\n\u001b[0;32m      9\u001b[0m energia_prom \u001b[38;5;241m=\u001b[39m energia(señal)\n\u001b[0;32m     10\u001b[0m energia_sujeto\u001b[38;5;241m.\u001b[39mappend(energia_prom)\n",
      "File \u001b[1;32m~\\AppData\\Local\\Packages\\PythonSoftwareFoundation.Python.3.10_qbz5n2kfra8p0\\LocalCache\\local-packages\\Python310\\site-packages\\numpy\\lib\\npyio.py:405\u001b[0m, in \u001b[0;36mload\u001b[1;34m(file, mmap_mode, allow_pickle, fix_imports, encoding, max_header_size)\u001b[0m\n\u001b[0;32m    403\u001b[0m     own_fid \u001b[38;5;241m=\u001b[39m \u001b[38;5;28;01mFalse\u001b[39;00m\n\u001b[0;32m    404\u001b[0m \u001b[38;5;28;01melse\u001b[39;00m:\n\u001b[1;32m--> 405\u001b[0m     fid \u001b[38;5;241m=\u001b[39m stack\u001b[38;5;241m.\u001b[39menter_context(\u001b[38;5;28;43mopen\u001b[39;49m\u001b[43m(\u001b[49m\u001b[43mos_fspath\u001b[49m\u001b[43m(\u001b[49m\u001b[43mfile\u001b[49m\u001b[43m)\u001b[49m\u001b[43m,\u001b[49m\u001b[43m \u001b[49m\u001b[38;5;124;43m\"\u001b[39;49m\u001b[38;5;124;43mrb\u001b[39;49m\u001b[38;5;124;43m\"\u001b[39;49m\u001b[43m)\u001b[49m)\n\u001b[0;32m    406\u001b[0m     own_fid \u001b[38;5;241m=\u001b[39m \u001b[38;5;28;01mTrue\u001b[39;00m\n\u001b[0;32m    408\u001b[0m \u001b[38;5;66;03m# Code to distinguish from NumPy binary files and pickles.\u001b[39;00m\n",
      "\u001b[1;31mPermissionError\u001b[0m: [Errno 13] Permission denied: 'c:\\\\Users\\\\Mariana\\\\OneDrive\\\\Documentos\\\\BIOSEÑALES\\\\lab_biosenales\\\\PRACTICA3\\\\parkinson'"
     ]
    }
   ],
   "source": [
    "eparkinson = calcular_energia('c:\\\\Users\\\\Mariana\\\\OneDrive\\\\Documentos\\\\BIOSEÑALES\\\\lab_biosenales\\\\PRACTICA3\\\\parkinson')\n",
    "#econtrol = calcular_energia('control')\n",
    "n_sujetos, n_canales = eparkinson.shape\n",
    "df_parkinson =pd.DataFrame(eparkinson, columns=[f'canal_{i}' for i in range(n_canales)])\n"
   ]
  }
 ],
 "metadata": {
  "kernelspec": {
   "display_name": "Python 3",
   "language": "python",
   "name": "python3"
  },
  "language_info": {
   "codemirror_mode": {
    "name": "ipython",
    "version": 3
   },
   "file_extension": ".py",
   "mimetype": "text/x-python",
   "name": "python",
   "nbconvert_exporter": "python",
   "pygments_lexer": "ipython3",
   "version": "3.10.11"
  }
 },
 "nbformat": 4,
 "nbformat_minor": 2
}
