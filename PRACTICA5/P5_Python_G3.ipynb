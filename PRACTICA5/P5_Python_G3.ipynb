{
  "cells": [
    {
      "cell_type": "markdown",
      "metadata": {
        "id": "view-in-github",
        "colab_type": "text"
      },
      "source": [
        "<a href=\"https://colab.research.google.com/github/marianayarce1224/lab_biosenales/blob/main/PRACTICA5/P5_Python_G3.ipynb\" target=\"_parent\"><img src=\"https://colab.research.google.com/assets/colab-badge.svg\" alt=\"Open In Colab\"/></a>"
      ]
    },
    {
      "cell_type": "markdown",
      "metadata": {
        "id": "vc6ymXpur_uK"
      },
      "source": [
        "<p align=\"left\"><img alt=\"udeA logo\" height=\"150px\" src=\"https://www.udea.edu.co/wps/wcm/connect/udea/99fc43e7-7a64-45bd-97fc-96639b70813d/logosimbolo-vertical.png?MOD=AJPERES&CVID=ljeLvHr\"></p>\n",
        "\n",
        "<h1><b>Práctica 5: Introducción al análisis frecuencial de señales\n",
        "</b></h1>\n",
        "<h4><b>Bioseñales y sistemas<br>Universidad de Antioquia, Facultad de Ingeniería - Bioingeniería<br>2024-2</b></h4><br>\n",
        "\n",
        "<h4><b>Grupo:</b> 3</h4>\n",
        "<h4><b>Integrantes:</b> Mariana Álvarez Yarce - Ana María Seguro Acevedo</h4>"
      ]
    },
    {
      "cell_type": "markdown",
      "source": [
        "#<b>Aplicación</b>\n",
        "\n",
        "<h4>Los ítems descritos a continuación deben ser desarrollados y entregados por los equipos de trabajo. Adjuntar conclusiones y referencias. Recuerde entregar el archivo ipynb, con el desarrollo punto a punto de esta aplicación, incluyendo los enunciados.</h4>"
      ],
      "metadata": {
        "id": "-PKBa5RcETNH"
      }
    },
    {
      "cell_type": "markdown",
      "source": [
        "<h4><b>1.</b> Cree una señal que sea la suma de tres componentes sinusoidales con frecuencias de 40, 80 y 160 Hz. Defina la frecuencia de muestreo mínima necesaria para representar la señal, y utilice la frecuencia de muestreo necesaria para representarla apropiadamente.</h4>"
      ],
      "metadata": {
        "id": "6UgxevKlrEu5"
      }
    },
    {
      "cell_type": "code",
      "source": [
        "import numpy as np\n",
        "import matplotlib.pyplot as plt\n",
        "import math\n",
        "from functools import reduce\n",
        "\n",
        "def mcm(a, b):\n",
        "    return abs(a * b) // math.gcd(a, b)\n",
        "\n",
        "def mcm_multiple(*args):\n",
        "    return reduce(mcm, args)\n",
        "\n",
        "f = [40, 80, 160]\n",
        "ts = mcm_multiple(*f)\n",
        "fs = ts*ts\n",
        "t = np.arange(0, 1/160 + 1/fs, 1/fs)\n",
        "\n",
        "sin_40 = np.sin(2*np.pi*f[0]*t)\n",
        "sin_80 = np.sin(2*np.pi*f[1]*t)\n",
        "sin_160 = np.sin(2*np.pi*f[2]*t)\n",
        "\n",
        "signal = sin_40 + sin_80 + sin_160\n",
        "plt.plot(t, signal)\n",
        "plt.show()"
      ],
      "metadata": {
        "colab": {
          "base_uri": "https://localhost:8080/",
          "height": 430
        },
        "id": "vi78udQWo9Il",
        "outputId": "ef83811b-adfb-4b0d-8691-8148b62f3e97"
      },
      "execution_count": 65,
      "outputs": [
        {
          "output_type": "display_data",
          "data": {
            "text/plain": [
              "<Figure size 640x480 with 1 Axes>"
            ],
            "image/png": "[encoded data removed]"
          },
          "metadata": {}
        }
      ]
    },
    {
      "cell_type": "markdown",
      "source": [
        "<h4><b>2.</b> Calcule la transformada de Fourier de la señal y grafique el espectro de frecuencia. Identifique en el espectro las frecuencias que componen la señal (trabaje con 10 periodos de la señal).</h4>"
      ],
      "metadata": {
        "id": "o6qrJvhknHek"
      }
    },
    {
      "cell_type": "markdown",
      "source": [
        "<h4><b>3.</b> Consulte la función que permite realizar el cálculo de la transformada inversa de Fourier. Aplíquelo a la señal anterior.</h4>"
      ],
      "metadata": {
        "id": "SumEbMxlnHzE"
      }
    },
    {
      "cell_type": "markdown",
      "source": [
        "<h4><b>4.</b> ¿Podría decir que las siguientes líneas aplican un filtro? ¿Por qué?</h4>\n",
        "\n",
        "```\n",
        "F1 = np.fft.fft(x);\n",
        "F2 = np.zeros((len(F1)));\n",
        "F2[9:13] = F1[9:13];\n",
        "xr = np.fft.ifft(F2);\n",
        "fig = plt.figure()\n",
        "ax = fig.add_subplot(111)\n",
        "ax.plot(t, np.real(xr))\n",
        "ax.set(xlabel='Tiempo (s)', ylabel='Amplitud (V)');\n",
        "plt.show()\n",
        "```\n",
        "<h4>Extraiga de manera similar cada una de las componentes de la señal.</h4>"
      ],
      "metadata": {
        "id": "FoOguny6naBs"
      }
    },
    {
      "cell_type": "markdown",
      "source": [
        "<h4><b>5.</b> El archivo adjunto (senecg.mat) contiene una señal de ECG adquirida a una frecuencia de muestreo de 250 Hz. Realice un análisis en frecuencia de la señal usando periodogramas de Welch y determine si es necesario eliminar ruido, en tal caso, elimínelo de la forma que se mostró antes y compruebe que lo haya realizado, calcule la transformada inversa de Fourier de la señal filtrada y compruebe con el periodograma. (Usar una ventana Hanning y justificar la elección del solapamiento y el ancho de la ventana).</h4>"
      ],
      "metadata": {
        "id": "yWxRr0oIoIe9"
      }
    },
    {
      "cell_type": "markdown",
      "source": [
        "<h4><b>6.</b> Realice un análisis de frecuencia a través del periodograma de Welch de una señal de EEG de un paciente Sano y otra de un paciente con Parkinson de algún canal que en el proyecto 1 hayan identificado que presentaba diferencias, si no encontró diferencias, elija un par al azar. Realice un análisis comparativo de las señales según lo que le indiquen los periodogramas. (Usar una ventana Hanning y justificar la elección del solapamiento y el ancho de la ventana)</h4>"
      ],
      "metadata": {
        "id": "IhkmfR4vob0V"
      }
    },
    {
      "cell_type": "markdown",
      "source": [
        "##<b>Conclusiones</b>"
      ],
      "metadata": {
        "id": "S_X9gm0qo-48"
      }
    },
    {
      "cell_type": "markdown",
      "source": [],
      "metadata": {
        "id": "emiq7UHOpEJV"
      }
    },
    {
      "cell_type": "markdown",
      "source": [
        "##<b>Referencias</b>"
      ],
      "metadata": {
        "id": "egWZ7AhmpF9F"
      }
    },
    {
      "cell_type": "markdown",
      "source": [],
      "metadata": {
        "id": "LibHJmuvpKhF"
      }
    }
  ],
  "metadata": {
    "kernelspec": {
      "display_name": "Python 3",
      "language": "python",
      "name": "python3"
    },
    "language_info": {
      "codemirror_mode": {
        "name": "ipython",
        "version": 3
      },
      "file_extension": ".py",
      "mimetype": "text/x-python",
      "name": "python",
      "nbconvert_exporter": "python",
      "pygments_lexer": "ipython3",
      "version": "3.10.11"
    },
    "colab": {
      "provenance": [],
      "collapsed_sections": [
        "S_X9gm0qo-48",
        "egWZ7AhmpF9F"
      ],
      "include_colab_link": true
    }
  },
  "nbformat": 4,
  "nbformat_minor": 0
}