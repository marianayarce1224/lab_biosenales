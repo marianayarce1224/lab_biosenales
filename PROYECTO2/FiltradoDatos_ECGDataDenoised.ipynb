{
  "nbformat": 4,
  "nbformat_minor": 0,
  "metadata": {
    "colab": {
      "provenance": [],
      "include_colab_link": true
    },
    "kernelspec": {
      "name": "python3",
      "display_name": "Python 3"
    },
    "language_info": {
      "name": "python"
    }
  },
  "cells": [
    {
      "cell_type": "markdown",
      "metadata": {
        "id": "view-in-github",
        "colab_type": "text"
      },
      "source": [
        "<a href=\"https://colab.research.google.com/github/marianayarce1224/lab_biosenales/blob/main/PROYECTO2/FiltradoDatos_ECGDataDenoised.ipynb\" target=\"_parent\"><img src=\"https://colab.research.google.com/assets/colab-badge.svg\" alt=\"Open In Colab\"/></a>"
      ]
    },
    {
      "cell_type": "markdown",
      "metadata": {
        "id": "vc6ymXpur_uK"
      },
      "source": [
        "<h4><b>Grupo:</b> 3</h4>\n",
        "<h4><b>Integrantes:</b> Mariana Álvarez Yarce - Ana María Seguro Acevedo</h4>"
      ]
    },
    {
      "cell_type": "markdown",
      "source": [
        "<h4>El proceso de eliminación de archivos y columnas de los datasets se hizo desde Visual Studio Code. Este notebook es solo de ejemplo, <b>NO</b> se ejecutan porque las rutas de los directorios no concuerdan con las del entorno de Colab.</h4>"
      ],
      "metadata": {
        "id": "hCuAbRZXBJUu"
      }
    },
    {
      "cell_type": "markdown",
      "source": [
        "\n",
        "\n",
        "```\n",
        "import pandas as pd\n",
        "import os\n",
        "\n",
        "df = pd.read_excel('Diagnostics.xlsx', engine='openpyxl')\n",
        "\n",
        "filtered_df = df.loc[(df['Rhythm'] == 'SB') | (df['Rhythm'] == 'AFIB')]\n",
        "files_names = filtered_df['FileName'].tolist()\n",
        "csv_files = [f\"{file}.csv\" for file in files_names]\n",
        "\n",
        "folder_path = '/home/estudiantelis/Descargas/ECGDataDenoised/'\n",
        "\n",
        "for filename in os.listdir(folder_path):\n",
        "    file_path = os.path.join(folder_path, filename)\n",
        "\n",
        "    if filename not in csv_files:\n",
        "        os.remove(file_path)\n",
        "        print(f'Deleted: {filename}')\n",
        "```\n",
        "\n",
        "\n",
        "```\n",
        "source_folder = '/home/estudiantelis/Descargas/ECGDataDenoised/'\n",
        "destination_folder_SB = '/home/estudiantelis/Descargas/ECGDataDenoised_II/SB/'\n",
        "destination_folder_AFIB = '/home/estudiantelis/Descargas/ECGDataDenoised_II/AFIB/'\n",
        "\n",
        "SB_df = df.loc[(df['Rhythm'] == 'SB')]\n",
        "files_SB_names = SB_df['FileName'].tolist()\n",
        "csv_files_SB = [f\"{file}.csv\" for file in files_SB_names]\n",
        "\n",
        "AFIB_df = df.loc[(df['Rhythm'] == 'AFIB')]\n",
        "files_AFIB_names = AFIB_df['FileName'].tolist()\n",
        "csv_files_AFIB = [f\"{file}.csv\" for file in files_AFIB_names]\n",
        "\n",
        "columns_to_keep = [1]\n",
        "\n",
        "for filename in os.listdir(source_folder):\n",
        "    if filename.endswith('.csv'):\n",
        "        file_path = os.path.join(source_folder, filename)\n",
        "        df2 = pd.read_csv(file_path, header=None)\n",
        "\n",
        "        filtered_df = df2[columns_to_keep]\n",
        "        if filename in csv_files_SB:\n",
        "            modified_file_path = os.path.join(destination_folder_SB, filename)\n",
        "        else:\n",
        "            modified_file_path = os.path.join(destination_folder_AFIB, filename)\n",
        "\n",
        "        filtered_df.to_csv(modified_file_path, index=False, header=False)\n",
        "        print(f'Saved: {modified_file_path}')\n",
        "```\n"
      ],
      "metadata": {
        "id": "MaD-ca-iB4N2"
      }
    }
  ]
}